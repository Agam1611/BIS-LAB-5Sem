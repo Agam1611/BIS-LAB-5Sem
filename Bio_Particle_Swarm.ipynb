{
  "nbformat": 4,
  "nbformat_minor": 0,
  "metadata": {
    "colab": {
      "provenance": []
    },
    "kernelspec": {
      "name": "python3",
      "display_name": "Python 3"
    },
    "language_info": {
      "name": "python"
    }
  },
  "cells": [
    {
      "cell_type": "code",
      "execution_count": null,
      "metadata": {
        "colab": {
          "base_uri": "https://localhost:8080/"
        },
        "id": "CDunmtjWfrO8",
        "outputId": "721eae0c-6c87-44f5-97ed-019a70f57646"
      },
      "outputs": [
        {
          "output_type": "stream",
          "name": "stdout",
          "text": [
            "Best Position: [-9.19971249e-25  1.71937901e-24]\n",
            "Best Fitness: 3.802611270068504e-48\n"
          ]
        }
      ],
      "source": [
        "import numpy as np\n",
        "\n",
        "# Step 1: Define the Problem\n",
        "def fitness_function(position):\n",
        "    # Example: Minimize the Sphere function\n",
        "    return np.sum(position**2)\n",
        "\n",
        "# Step 2: Initialize Parameters\n",
        "def initialize_parameters():\n",
        "    params = {\n",
        "        'N': 50,        # Number of particles\n",
        "        'dim': 2,      # Dimensionality of the problem\n",
        "        'max_iter': 200,  # Maximum number of iterations\n",
        "        'minx': -10,    # Minimum bound for position\n",
        "        'maxx': 10,     # Maximum bound for position\n",
        "        'w': 0.5,       # Inertia weight\n",
        "        'c1': 1.5,      # Cognitive coefficient\n",
        "        'c2': 1.5       # Social coefficient\n",
        "    }\n",
        "    return params\n",
        "\n",
        "# Step 3: Initialize Particles\n",
        "class Particle:\n",
        "    def __init__(self, position, velocity):\n",
        "        self.position = position\n",
        "        self.velocity = velocity\n",
        "        self.bestPos = position.copy()\n",
        "        self.bestFitness = float('inf')\n",
        "\n",
        "def initialize_swarm(N, dim, minx, maxx):\n",
        "    swarm = []\n",
        "    for _ in range(N):\n",
        "        position = np.random.uniform(minx, maxx, dim)\n",
        "        velocity = np.random.uniform(-1, 1, dim)\n",
        "        swarm.append(Particle(position, velocity))\n",
        "    return swarm\n",
        "\n",
        "# Step 4: Evaluate Fitness\n",
        "def evaluate_fitness(swarm):\n",
        "    for particle in swarm:\n",
        "        particle.fitness = fitness_function(particle.position)\n",
        "\n",
        "# Step 5: Update Velocities and Positions\n",
        "def update_particles(swarm, best_pos_swarm, w, c1, c2, minx, maxx):\n",
        "    for particle in swarm:\n",
        "        r1, r2 = np.random.rand(), np.random.rand()\n",
        "        particle.velocity = (w * particle.velocity +\n",
        "                             r1 * c1 * (particle.bestPos - particle.position) +\n",
        "                             r2 * c2 * (best_pos_swarm - particle.position))\n",
        "        particle.position += particle.velocity\n",
        "        # Clip position to be within bounds\n",
        "        particle.position = np.clip(particle.position, minx, maxx)\n",
        "\n",
        "# Step 6: Iterate\n",
        "def pso():\n",
        "    params = initialize_parameters()\n",
        "    swarm = initialize_swarm(params['N'], params['dim'], params['minx'], params['maxx'])\n",
        "    best_pos_swarm = swarm[0].position.copy()\n",
        "    best_fitness_swarm = float('inf')\n",
        "\n",
        "    for _ in range(params['max_iter']):\n",
        "        evaluate_fitness(swarm)\n",
        "\n",
        "        for particle in swarm:\n",
        "            # Update personal best\n",
        "            if particle.fitness < particle.bestFitness:\n",
        "                particle.bestFitness = particle.fitness\n",
        "                particle.bestPos = particle.position.copy()\n",
        "\n",
        "            # Update global best\n",
        "            if particle.fitness < best_fitness_swarm:\n",
        "                best_fitness_swarm = particle.fitness\n",
        "                best_pos_swarm = particle.position.copy()\n",
        "\n",
        "        # Update particles' velocities and positions\n",
        "        update_particles(swarm, best_pos_swarm, params['w'], params['c1'], params['c2'], params['minx'], params['maxx'])\n",
        "\n",
        "    # Step 7: Output the Best Solution\n",
        "    return best_pos_swarm, best_fitness_swarm\n",
        "\n",
        "# Execute PSO\n",
        "best_position, best_fitness = pso()\n",
        "\n",
        "print(\"Best Position:\", best_position)\n",
        "print(\"Best Fitness:\", best_fitness)\n"
      ]
    }
  ]
}