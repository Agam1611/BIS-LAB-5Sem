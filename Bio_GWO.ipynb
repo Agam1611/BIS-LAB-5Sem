{
  "nbformat": 4,
  "nbformat_minor": 0,
  "metadata": {
    "colab": {
      "provenance": []
    },
    "kernelspec": {
      "name": "python3",
      "display_name": "Python 3"
    },
    "language_info": {
      "name": "python"
    }
  },
  "cells": [
    {
      "cell_type": "code",
      "execution_count": null,
      "metadata": {
        "colab": {
          "base_uri": "https://localhost:8080/"
        },
        "id": "vdPb20mixjrc",
        "outputId": "73bbc8e7-be19-40a3-93b0-b17492717e3c"
      },
      "outputs": [
        {
          "output_type": "stream",
          "name": "stdout",
          "text": [
            "Best Solution: [-1.28434275  1.94786008  0.82301541 -1.85113457 -2.08806377  3.74582237\n",
            "  0.84065243  0.8938704  -1.22271966 -0.29007149]\n",
            "Best Score: 31.023829961456407\n"
          ]
        }
      ],
      "source": [
        "import numpy as np\n",
        "\n",
        "# Objective function (example: Sphere function)\n",
        "def objective_function(x):\n",
        "    return np.sum(x**2)\n",
        "\n",
        "# GWO parameters\n",
        "N, dim, T = 30, 10, 100  # Number of wolves, dimensions, iterations\n",
        "lower_bound, upper_bound = -10, 10\n",
        "\n",
        "# Initialize wolves' positions\n",
        "wolves = np.random.uniform(lower_bound, upper_bound, (N, dim))\n",
        "\n",
        "# Initialize best positions and scores\n",
        "alpha_pos, beta_pos, delta_pos = np.zeros(dim), np.zeros(dim), np.zeros(dim)\n",
        "alpha_score, beta_score, delta_score = float('inf'), float('inf'), float('inf')\n",
        "\n",
        "# Main optimization loop\n",
        "for t in range(T):\n",
        "    for i in range(N):\n",
        "        fitness = objective_function(wolves[i])  # Evaluate fitness\n",
        "\n",
        "        # Update alpha, beta, delta wolves\n",
        "        if fitness < alpha_score:\n",
        "            delta_score, delta_pos = beta_score, beta_pos.copy()\n",
        "            beta_score, beta_pos = alpha_score, alpha_pos.copy()\n",
        "            alpha_score, alpha_pos = fitness, wolves[i].copy()\n",
        "        elif fitness < beta_score:\n",
        "            delta_score, delta_pos = beta_score, beta_pos.copy()\n",
        "            beta_score, beta_pos = fitness, wolves[i].copy()\n",
        "        elif fitness < delta_score:\n",
        "            delta_score, delta_pos = fitness, wolves[i].copy()\n",
        "\n",
        "    # Update positions\n",
        "    a = 2 - t * (2 / T)\n",
        "    for i in range(N):\n",
        "        r1, r2 = np.random.rand(dim), np.random.rand(dim)\n",
        "        A, C = 2 * a * r1 - a, 2 * r2\n",
        "\n",
        "        # Update wolf positions based on alpha, beta, delta\n",
        "        wolves[i] += A * (abs(C * alpha_pos - wolves[i]) +\n",
        "                          abs(C * beta_pos - wolves[i]) +\n",
        "                          abs(C * delta_pos - wolves[i]))\n",
        "\n",
        "        # Apply boundary constraints\n",
        "        wolves[i] = np.clip(wolves[i], lower_bound, upper_bound)\n",
        "\n",
        "# Output the best solution found\n",
        "print(\"Best Solution:\", alpha_pos)\n",
        "print(\"Best Score:\", alpha_score)"
      ]
    }
  ]
}