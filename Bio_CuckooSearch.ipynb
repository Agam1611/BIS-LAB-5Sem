{
  "nbformat": 4,
  "nbformat_minor": 0,
  "metadata": {
    "colab": {
      "provenance": []
    },
    "kernelspec": {
      "name": "python3",
      "display_name": "Python 3"
    },
    "language_info": {
      "name": "python"
    }
  },
  "cells": [
    {
      "cell_type": "code",
      "execution_count": null,
      "metadata": {
        "colab": {
          "base_uri": "https://localhost:8080/"
        },
        "id": "Q_TLPRsCrtx_",
        "outputId": "2d8f7219-9010-4b5a-8ac1-fb4e8481d00d"
      },
      "outputs": [
        {
          "output_type": "stream",
          "name": "stdout",
          "text": [
            "Best Solution: [0.64982748 0.55961241 2.01501756 0.93987275 0.31984962]\n",
            "Best Fitness: 5.78140211553397\n"
          ]
        }
      ],
      "source": [
        "import numpy as np\n",
        "import math\n",
        "# Objective function to optimize (example: Sphere function)\n",
        "def objective_function(x):\n",
        "    return np.sum(x**2)\n",
        "\n",
        "# Lévy Flight distribution\n",
        "def levy_flight(beta=1.5, size=1):\n",
        "    sigma_u = (math.gamma(1 + beta) * np.sin(np.pi * beta / 2) /\n",
        "               math.gamma((1 + beta) / 2) * beta * (2 ** ((beta - 1) / 2)))**(1 / beta)\n",
        "    u = np.random.normal(0, sigma_u, size)\n",
        "    v = np.random.normal(0, 1, size)\n",
        "    step = u / (np.abs(v) ** (1 / beta))\n",
        "    return step\n",
        "\n",
        "# Cuckoo Search Algorithm\n",
        "def cuckoo_search(objective_function, dim, lower_bound, upper_bound, num_nests=25, max_iter=100, pa=0.25):\n",
        "    # Initialize nests with random solutions within bounds\n",
        "    nests = np.random.rand(num_nests, dim) * (upper_bound - lower_bound) + lower_bound\n",
        "    fitness = np.apply_along_axis(objective_function, 1, nests)\n",
        "\n",
        "    # Initialize the best solution\n",
        "    best_nest_idx = np.argmin(fitness)\n",
        "    best_nest = nests[best_nest_idx]\n",
        "    best_fitness = fitness[best_nest_idx]\n",
        "\n",
        "    # Iterate for a fixed number of generations or until convergence\n",
        "    for iteration in range(max_iter):\n",
        "        for i in range(num_nests):\n",
        "            # Generate a new solution using Lévy flight\n",
        "            step = levy_flight(size=dim)\n",
        "            new_nest = nests[i] + 0.01 * step\n",
        "            new_nest = np.clip(new_nest, lower_bound, upper_bound)\n",
        "\n",
        "            # Evaluate the new solution\n",
        "            new_fitness = objective_function(new_nest)\n",
        "\n",
        "            # If the new solution is better, replace the old solution\n",
        "            if new_fitness < fitness[i]:\n",
        "                nests[i] = new_nest\n",
        "                fitness[i] = new_fitness\n",
        "\n",
        "        # Abandon the worst nests\n",
        "        for i in range(num_nests):\n",
        "            if np.random.rand() < pa:  # Probability to abandon\n",
        "                nests[i] = np.random.rand(dim) * (upper_bound - lower_bound) + lower_bound\n",
        "                fitness[i] = objective_function(nests[i])\n",
        "\n",
        "        # Find the current best nest\n",
        "        best_nest_idx = np.argmin(fitness)\n",
        "        best_nest = nests[best_nest_idx]\n",
        "        best_fitness = fitness[best_nest_idx]\n",
        "\n",
        "        # print(f\"Iteration {iteration+1}, Best Fitness: {best_fitness}\")\n",
        "\n",
        "    return best_nest, best_fitness\n",
        "\n",
        "# Example usage of Cuckoo Search\n",
        "\n",
        "# Define the problem dimensions and bounds\n",
        "dim = 5  # Dimension of the solution space\n",
        "lower_bound = -5  # Lower bound of the search space\n",
        "upper_bound = 5  # Upper bound of the search space\n",
        "\n",
        "# Run Cuckoo Search\n",
        "best_solution, best_fitness = cuckoo_search(objective_function, dim, lower_bound, upper_bound, num_nests=25, max_iter=100, pa=0.25)\n",
        "\n",
        "print(f\"Best Solution: {best_solution}\")\n",
        "print(f\"Best Fitness: {best_fitness}\")\n"
      ]
    }
  ]
}